{
  "nbformat": 4,
  "nbformat_minor": 0,
  "metadata": {
    "colab": {
      "provenance": [],
      "authorship_tag": "ABX9TyOyRD9BP1y/j9y1xJptgF9F",
      "include_colab_link": true
    },
    "kernelspec": {
      "name": "python3",
      "display_name": "Python 3"
    },
    "language_info": {
      "name": "python"
    }
  },
  "cells": [
    {
      "cell_type": "markdown",
      "metadata": {
        "id": "view-in-github",
        "colab_type": "text"
      },
      "source": [
        "<a href=\"https://colab.research.google.com/github/gturns1/technical-discussion/blob/main/technical_docs.ipynb\" target=\"_parent\"><img src=\"https://colab.research.google.com/assets/colab-badge.svg\" alt=\"Open In Colab\"/></a>"
      ]
    },
    {
      "cell_type": "markdown",
      "source": [
        "## Ingest"
      ],
      "metadata": {
        "id": "zA8MRIPbVywT"
      }
    },
    {
      "cell_type": "code",
      "execution_count": 5,
      "metadata": {
        "colab": {
          "base_uri": "https://localhost:8080/",
          "height": 36
        },
        "id": "sLDNLuMEVCCh",
        "outputId": "2e116eff-5414-4644-8e42-9ba1287ff1cb"
      },
      "outputs": [
        {
          "output_type": "execute_result",
          "data": {
            "text/plain": [
              "'hi'"
            ],
            "application/vnd.google.colaboratory.intrinsic+json": {
              "type": "string"
            }
          },
          "metadata": {},
          "execution_count": 5
        }
      ],
      "source": [
        "def hello():\n",
        "  return \"hi\"\n",
        "hello()"
      ]
    },
    {
      "cell_type": "markdown",
      "source": [
        "## EDA"
      ],
      "metadata": {
        "id": "NeYlgo_6V4R2"
      }
    },
    {
      "cell_type": "markdown",
      "source": [
        "### Markdown sub heading\n",
        "* one\n",
        "* two\n",
        "* three"
      ],
      "metadata": {
        "id": "3P8jPcTbWAyM"
      }
    },
    {
      "cell_type": "code",
      "source": [],
      "metadata": {
        "id": "vUP9MUJ2V_5p"
      },
      "execution_count": null,
      "outputs": []
    },
    {
      "cell_type": "markdown",
      "source": [
        "## Conclusion"
      ],
      "metadata": {
        "id": "2R8IulAHV64_"
      }
    },
    {
      "cell_type": "code",
      "source": [],
      "metadata": {
        "id": "y2rXR7iiVPTJ"
      },
      "execution_count": null,
      "outputs": []
    }
  ]
}